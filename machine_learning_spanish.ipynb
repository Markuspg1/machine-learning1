{
  "nbformat": 4,
  "nbformat_minor": 0,
  "metadata": {
    "colab": {
      "provenance": [],
      "collapsed_sections": [],
      "authorship_tag": "ABX9TyOJ/VTU1xRbYWOuSNYuzwr6",
      "include_colab_link": true
    },
    "kernelspec": {
      "name": "python3",
      "display_name": "Python 3"
    },
    "language_info": {
      "name": "python"
    }
  },
  "cells": [
    {
      "cell_type": "markdown",
      "metadata": {
        "id": "view-in-github",
        "colab_type": "text"
      },
      "source": [
        "<a href=\"https://colab.research.google.com/github/Markuspg1/machine-learning1/blob/main/machine_learning_spanish.ipynb\" target=\"_parent\"><img src=\"https://colab.research.google.com/assets/colab-badge.svg\" alt=\"Open In Colab\"/></a>"
      ]
    },
    {
      "cell_type": "markdown",
      "source": [
        "# Aprendizaje Automatico\n",
        "# Árboles y random forest para regresión y clasificación\n",
        "\n",
        "Preparar nuestro ambiente asegurandonos que tengamos las siguientes librerias\n",
        "\n"
      ],
      "metadata": {
        "id": "Buu8ZVsn82o7"
      }
    },
    {
      "cell_type": "code",
      "source": [
        "conda create --name ML-core python=3.9\n",
        "conda activate ML-core\n",
        "conda install scikit-learn matplotlib numpy pandas jupyter    "
      ],
      "metadata": {
        "id": "DiqNMaCm82Is",
        "colab": {
          "base_uri": "https://localhost:8080/",
          "height": 132
        },
        "outputId": "a1c31a79-7af3-4d53-8495-b0d762fab6b2"
      },
      "execution_count": null,
      "outputs": [
        {
          "output_type": "error",
          "ename": "SyntaxError",
          "evalue": "ignored",
          "traceback": [
            "\u001b[0;36m  File \u001b[0;32m\"<ipython-input-2-1a677dbd50ef>\"\u001b[0;36m, line \u001b[0;32m1\u001b[0m\n\u001b[0;31m    conda create --name ML-core python=3.9\u001b[0m\n\u001b[0m               ^\u001b[0m\n\u001b[0;31mSyntaxError\u001b[0m\u001b[0;31m:\u001b[0m invalid syntax\n"
          ]
        }
      ]
    },
    {
      "cell_type": "markdown",
      "source": [
        "El segundo paso es cargar el data set a nuestro dataframe desde\n",
        "https://www.dropbox.com/s/pt7cskgwnzu80tc/housing_test.csv?dl=0\n",
        "\n",
        "Creamos la funcion"
      ],
      "metadata": {
        "id": "w264FuDH9J8q"
      }
    },
    {
      "cell_type": "code",
      "source": [
        "def load_csv(fn):\n",
        "    \n",
        "    import pandas as pd\n",
        "    \n",
        "    print(\"Cargando datos desde \", fn, end=\" ...\")\n",
        "    df = pd.read_csv(fn)\n",
        "    print(\"Completado.\")\n",
        "    print(\"Filas y Columnas: \", df.shape) #muestra el numero de filas y columnas\n",
        "    print(\"Columnas\\n\", df.columns)\n",
        "    print()\n",
        "    print(\"df.columns.values.tolist()\\n\", df.columns.values.tolist()) #convierte las columnas en una lista\n",
        "    \n",
        "    return df\n",
        "\n",
        "print(\"Funcion Definida\")"
      ],
      "metadata": {
        "colab": {
          "base_uri": "https://localhost:8080/"
        },
        "id": "bPDUOqIdK0Eh",
        "outputId": "fa84f6a6-5797-4f4c-ab9b-98ae1c5bd01d"
      },
      "execution_count": null,
      "outputs": [
        {
          "output_type": "stream",
          "name": "stdout",
          "text": [
            "Funcion Definida\n"
          ]
        }
      ]
    },
    {
      "cell_type": "markdown",
      "source": [
        "Y luego la llamamos para mostrar los resultados"
      ],
      "metadata": {
        "id": "M5V3IORqMTBv"
      }
    },
    {
      "cell_type": "code",
      "execution_count": null,
      "metadata": {
        "id": "qxl8tSkA80jy",
        "colab": {
          "base_uri": "https://localhost:8080/"
        },
        "outputId": "81096346-ed6b-4def-8e10-7126a1f0120d"
      },
      "outputs": [
        {
          "output_type": "stream",
          "name": "stdout",
          "text": [
            "\n",
            "Probando la funcion\n",
            "\n",
            "Cargando datos desde  https://dl.dropboxusercontent.com/s/pt7cskgwnzu80tc/housing_test.csv ...Completado.\n",
            "Filas y Columnas:  (1459, 80)\n",
            "Columnas\n",
            " Index(['Id', 'MSSubClass', 'MSZoning', 'LotFrontage', 'LotArea', 'Street',\n",
            "       'Alley', 'LotShape', 'LandContour', 'Utilities', 'LotConfig',\n",
            "       'LandSlope', 'Neighborhood', 'Condition1', 'Condition2', 'BldgType',\n",
            "       'HouseStyle', 'OverallQual', 'OverallCond', 'YearBuilt', 'YearRemodAdd',\n",
            "       'RoofStyle', 'RoofMatl', 'Exterior1st', 'Exterior2nd', 'MasVnrType',\n",
            "       'MasVnrArea', 'ExterQual', 'ExterCond', 'Foundation', 'BsmtQual',\n",
            "       'BsmtCond', 'BsmtExposure', 'BsmtFinType1', 'BsmtFinSF1',\n",
            "       'BsmtFinType2', 'BsmtFinSF2', 'BsmtUnfSF', 'TotalBsmtSF', 'Heating',\n",
            "       'HeatingQC', 'CentralAir', 'Electrical', '1stFlrSF', '2ndFlrSF',\n",
            "       'LowQualFinSF', 'GrLivArea', 'BsmtFullBath', 'BsmtHalfBath', 'FullBath',\n",
            "       'HalfBath', 'BedroomAbvGr', 'KitchenAbvGr', 'KitchenQual',\n",
            "       'TotRmsAbvGrd', 'Functional', 'Fireplaces', 'FireplaceQu', 'GarageType',\n",
            "       'GarageYrBlt', 'GarageFinish', 'GarageCars', 'GarageArea', 'GarageQual',\n",
            "       'GarageCond', 'PavedDrive', 'WoodDeckSF', 'OpenPorchSF',\n",
            "       'EnclosedPorch', '3SsnPorch', 'ScreenPorch', 'PoolArea', 'PoolQC',\n",
            "       'Fence', 'MiscFeature', 'MiscVal', 'MoSold', 'YrSold', 'SaleType',\n",
            "       'SaleCondition'],\n",
            "      dtype='object')\n",
            "\n",
            "df.columns.values.tolist()\n",
            " ['Id', 'MSSubClass', 'MSZoning', 'LotFrontage', 'LotArea', 'Street', 'Alley', 'LotShape', 'LandContour', 'Utilities', 'LotConfig', 'LandSlope', 'Neighborhood', 'Condition1', 'Condition2', 'BldgType', 'HouseStyle', 'OverallQual', 'OverallCond', 'YearBuilt', 'YearRemodAdd', 'RoofStyle', 'RoofMatl', 'Exterior1st', 'Exterior2nd', 'MasVnrType', 'MasVnrArea', 'ExterQual', 'ExterCond', 'Foundation', 'BsmtQual', 'BsmtCond', 'BsmtExposure', 'BsmtFinType1', 'BsmtFinSF1', 'BsmtFinType2', 'BsmtFinSF2', 'BsmtUnfSF', 'TotalBsmtSF', 'Heating', 'HeatingQC', 'CentralAir', 'Electrical', '1stFlrSF', '2ndFlrSF', 'LowQualFinSF', 'GrLivArea', 'BsmtFullBath', 'BsmtHalfBath', 'FullBath', 'HalfBath', 'BedroomAbvGr', 'KitchenAbvGr', 'KitchenQual', 'TotRmsAbvGrd', 'Functional', 'Fireplaces', 'FireplaceQu', 'GarageType', 'GarageYrBlt', 'GarageFinish', 'GarageCars', 'GarageArea', 'GarageQual', 'GarageCond', 'PavedDrive', 'WoodDeckSF', 'OpenPorchSF', 'EnclosedPorch', '3SsnPorch', 'ScreenPorch', 'PoolArea', 'PoolQC', 'Fence', 'MiscFeature', 'MiscVal', 'MoSold', 'YrSold', 'SaleType', 'SaleCondition']\n",
            "\n",
            "Confirmando Carga, df.shape (1459, 80)\n",
            "\n",
            "Done.\n"
          ]
        }
      ],
      "source": [
        "print(\"\\nProbando la funcion\\n\")\n",
        "import pandas as pd\n",
        "\n",
        "url = \"https://dl.dropboxusercontent.com/s/pt7cskgwnzu80tc/\"\n",
        "fn  = \"housing_test.csv\"\n",
        "\n",
        "df = load_csv(url + fn)\n",
        "print(\"\\nConfirmando Carga, df.shape\", df.shape)\n",
        "print(\"\\nDone.\")"
      ]
    },
    {
      "cell_type": "markdown",
      "source": [
        "Eliminamos la columna ID"
      ],
      "metadata": {
        "id": "5ctfmr5K9nNH"
      }
    },
    {
      "cell_type": "code",
      "source": [
        "cols_to_drop = ['Id']\n",
        "df = df.drop(cols_to_drop, axis=1)\n",
        "print(df.shape)\n",
        "print(\"df.columns.values.tolist()\", df.columns.values.tolist())\n",
        "\n",
        "print(\"\\nCompleto.\")"
      ],
      "metadata": {
        "id": "ztAtFqfR9oX4",
        "colab": {
          "base_uri": "https://localhost:8080/"
        },
        "outputId": "2d3cf6ca-e2b3-49c7-8340-a5173caf108f"
      },
      "execution_count": null,
      "outputs": [
        {
          "output_type": "stream",
          "name": "stdout",
          "text": [
            "(1459, 79)\n",
            "df.columns.values.tolist() ['MSSubClass', 'MSZoning', 'LotFrontage', 'LotArea', 'Street', 'Alley', 'LotShape', 'LandContour', 'Utilities', 'LotConfig', 'LandSlope', 'Neighborhood', 'Condition1', 'Condition2', 'BldgType', 'HouseStyle', 'OverallQual', 'OverallCond', 'YearBuilt', 'YearRemodAdd', 'RoofStyle', 'RoofMatl', 'Exterior1st', 'Exterior2nd', 'MasVnrType', 'MasVnrArea', 'ExterQual', 'ExterCond', 'Foundation', 'BsmtQual', 'BsmtCond', 'BsmtExposure', 'BsmtFinType1', 'BsmtFinSF1', 'BsmtFinType2', 'BsmtFinSF2', 'BsmtUnfSF', 'TotalBsmtSF', 'Heating', 'HeatingQC', 'CentralAir', 'Electrical', '1stFlrSF', '2ndFlrSF', 'LowQualFinSF', 'GrLivArea', 'BsmtFullBath', 'BsmtHalfBath', 'FullBath', 'HalfBath', 'BedroomAbvGr', 'KitchenAbvGr', 'KitchenQual', 'TotRmsAbvGrd', 'Functional', 'Fireplaces', 'FireplaceQu', 'GarageType', 'GarageYrBlt', 'GarageFinish', 'GarageCars', 'GarageArea', 'GarageQual', 'GarageCond', 'PavedDrive', 'WoodDeckSF', 'OpenPorchSF', 'EnclosedPorch', '3SsnPorch', 'ScreenPorch', 'PoolArea', 'PoolQC', 'Fence', 'MiscFeature', 'MiscVal', 'MoSold', 'YrSold', 'SaleType', 'SaleCondition']\n",
            "\n",
            "Completo.\n"
          ]
        }
      ]
    },
    {
      "cell_type": "code",
      "source": [
        "df.info()"
      ],
      "metadata": {
        "colab": {
          "base_uri": "https://localhost:8080/"
        },
        "id": "LQQhaBFXYL_7",
        "outputId": "2fd8b052-45bf-4363-cab6-8d6459c756b0"
      },
      "execution_count": null,
      "outputs": [
        {
          "output_type": "stream",
          "name": "stdout",
          "text": [
            "<class 'pandas.core.frame.DataFrame'>\n",
            "RangeIndex: 1459 entries, 0 to 1458\n",
            "Data columns (total 79 columns):\n",
            " #   Column         Non-Null Count  Dtype  \n",
            "---  ------         --------------  -----  \n",
            " 0   MSSubClass     1459 non-null   int64  \n",
            " 1   MSZoning       1455 non-null   object \n",
            " 2   LotFrontage    1232 non-null   float64\n",
            " 3   LotArea        1459 non-null   int64  \n",
            " 4   Street         1459 non-null   object \n",
            " 5   Alley          107 non-null    object \n",
            " 6   LotShape       1459 non-null   object \n",
            " 7   LandContour    1459 non-null   object \n",
            " 8   Utilities      1457 non-null   object \n",
            " 9   LotConfig      1459 non-null   object \n",
            " 10  LandSlope      1459 non-null   object \n",
            " 11  Neighborhood   1459 non-null   object \n",
            " 12  Condition1     1459 non-null   object \n",
            " 13  Condition2     1459 non-null   object \n",
            " 14  BldgType       1459 non-null   object \n",
            " 15  HouseStyle     1459 non-null   object \n",
            " 16  OverallQual    1459 non-null   int64  \n",
            " 17  OverallCond    1459 non-null   int64  \n",
            " 18  YearBuilt      1459 non-null   int64  \n",
            " 19  YearRemodAdd   1459 non-null   int64  \n",
            " 20  RoofStyle      1459 non-null   object \n",
            " 21  RoofMatl       1459 non-null   object \n",
            " 22  Exterior1st    1458 non-null   object \n",
            " 23  Exterior2nd    1458 non-null   object \n",
            " 24  MasVnrType     1443 non-null   object \n",
            " 25  MasVnrArea     1444 non-null   float64\n",
            " 26  ExterQual      1459 non-null   object \n",
            " 27  ExterCond      1459 non-null   object \n",
            " 28  Foundation     1459 non-null   object \n",
            " 29  BsmtQual       1415 non-null   object \n",
            " 30  BsmtCond       1414 non-null   object \n",
            " 31  BsmtExposure   1415 non-null   object \n",
            " 32  BsmtFinType1   1417 non-null   object \n",
            " 33  BsmtFinSF1     1458 non-null   float64\n",
            " 34  BsmtFinType2   1417 non-null   object \n",
            " 35  BsmtFinSF2     1458 non-null   float64\n",
            " 36  BsmtUnfSF      1458 non-null   float64\n",
            " 37  TotalBsmtSF    1458 non-null   float64\n",
            " 38  Heating        1459 non-null   object \n",
            " 39  HeatingQC      1459 non-null   object \n",
            " 40  CentralAir     1459 non-null   object \n",
            " 41  Electrical     1459 non-null   object \n",
            " 42  1stFlrSF       1459 non-null   int64  \n",
            " 43  2ndFlrSF       1459 non-null   int64  \n",
            " 44  LowQualFinSF   1459 non-null   int64  \n",
            " 45  GrLivArea      1459 non-null   int64  \n",
            " 46  BsmtFullBath   1457 non-null   float64\n",
            " 47  BsmtHalfBath   1457 non-null   float64\n",
            " 48  FullBath       1459 non-null   int64  \n",
            " 49  HalfBath       1459 non-null   int64  \n",
            " 50  BedroomAbvGr   1459 non-null   int64  \n",
            " 51  KitchenAbvGr   1459 non-null   int64  \n",
            " 52  KitchenQual    1458 non-null   object \n",
            " 53  TotRmsAbvGrd   1459 non-null   int64  \n",
            " 54  Functional     1457 non-null   object \n",
            " 55  Fireplaces     1459 non-null   int64  \n",
            " 56  FireplaceQu    729 non-null    object \n",
            " 57  GarageType     1383 non-null   object \n",
            " 58  GarageYrBlt    1381 non-null   float64\n",
            " 59  GarageFinish   1381 non-null   object \n",
            " 60  GarageCars     1458 non-null   float64\n",
            " 61  GarageArea     1458 non-null   float64\n",
            " 62  GarageQual     1381 non-null   object \n",
            " 63  GarageCond     1381 non-null   object \n",
            " 64  PavedDrive     1459 non-null   object \n",
            " 65  WoodDeckSF     1459 non-null   int64  \n",
            " 66  OpenPorchSF    1459 non-null   int64  \n",
            " 67  EnclosedPorch  1459 non-null   int64  \n",
            " 68  3SsnPorch      1459 non-null   int64  \n",
            " 69  ScreenPorch    1459 non-null   int64  \n",
            " 70  PoolArea       1459 non-null   int64  \n",
            " 71  PoolQC         3 non-null      object \n",
            " 72  Fence          290 non-null    object \n",
            " 73  MiscFeature    51 non-null     object \n",
            " 74  MiscVal        1459 non-null   int64  \n",
            " 75  MoSold         1459 non-null   int64  \n",
            " 76  YrSold         1459 non-null   int64  \n",
            " 77  SaleType       1458 non-null   object \n",
            " 78  SaleCondition  1459 non-null   object \n",
            "dtypes: float64(11), int64(25), object(43)\n",
            "memory usage: 900.6+ KB\n"
          ]
        }
      ]
    },
    {
      "cell_type": "markdown",
      "source": [
        "Eliminamos las columnas con valores duplicados y todas las columnas que tienen un mismo valor, ya que estas no nos funcionan para categorizar ni predecir.\n",
        "\n",
        "Creamos la funcion"
      ],
      "metadata": {
        "id": "zE0bsvLqQdJ5"
      }
    },
    {
      "cell_type": "code",
      "source": [
        "def clean_data(df, v:bool=False):\n",
        "        \n",
        "    \"\"\"\n",
        "        Recibe el dataframe, verifica que las columnas no sean duplicadas ni tengan solo un valor.\n",
        "        v: es una variable para habilitar/deshabilitar comentarios\n",
        "    \"\"\"\n",
        "    \n",
        "    print(\"Limpiando la data...\")\n",
        "    \n",
        "    if v: print(\"  Eliminando Columnas Duplicadas. in/out resultado:\", df.shape, end=\" / \")\n",
        "    \n",
        "    df = df.T.drop_duplicates().T\n",
        "    if v: print(df.shape, \"Completo.\")\n",
        "    \n",
        "    if v: print(\"  Eliminando columnas con un solo valor. in/out resultado:\", df.shape, end=\" / \")    \n",
        "    df = df[df.columns[df.nunique() > 1]]\n",
        "    if v: print(df.shape, \"Completo.\")\n",
        "    \n",
        "    return df\n",
        "\n",
        "print(\"Function Defined\\n\")"
      ],
      "metadata": {
        "colab": {
          "base_uri": "https://localhost:8080/"
        },
        "id": "3T83go5IQkWe",
        "outputId": "b66f7fb9-e201-4425-f83b-5a5b80f3192f"
      },
      "execution_count": null,
      "outputs": [
        {
          "output_type": "stream",
          "name": "stdout",
          "text": [
            "Function Defined\n",
            "\n"
          ]
        }
      ]
    },
    {
      "cell_type": "markdown",
      "source": [
        "Probamos la funcion"
      ],
      "metadata": {
        "id": "83OjimglRG0K"
      }
    },
    {
      "cell_type": "code",
      "source": [
        "import pandas as pd\n",
        "import numpy as np\n",
        "\n",
        "df = clean_data(df, v=True)\n",
        "\n",
        "print(\"\\nForma Final\", df.shape)\n",
        "print(\"\\nCompleto.\")"
      ],
      "metadata": {
        "colab": {
          "base_uri": "https://localhost:8080/"
        },
        "id": "FG2Cw2QvRI2c",
        "outputId": "f4934626-ebff-40c3-f44c-a48f56acb3ee"
      },
      "execution_count": null,
      "outputs": [
        {
          "output_type": "stream",
          "name": "stdout",
          "text": [
            "Limpiando la data...\n",
            "  Eliminando Columnas Duplicadas. in/out resultado: (1459, 79) / (1459, 79) Completo.\n",
            "  Eliminando columnas con un solo valor. in/out resultado: (1459, 79) / (1459, 78) Completo.\n",
            "\n",
            "Forma Final (1459, 78)\n",
            "\n",
            "Completo.\n"
          ]
        }
      ]
    },
    {
      "cell_type": "markdown",
      "source": [
        "Analizamos los datos estadisticos de las columnas de tipo numerico."
      ],
      "metadata": {
        "id": "K5J2Sw1dPSuc"
      }
    },
    {
      "cell_type": "code",
      "source": [
        "df.describe() #resumen de un conjunto de datos"
      ],
      "metadata": {
        "colab": {
          "base_uri": "https://localhost:8080/",
          "height": 268
        },
        "id": "oookYgi-PSBh",
        "outputId": "3de38084-8463-4249-978d-ad6793cc8eab"
      },
      "execution_count": null,
      "outputs": [
        {
          "output_type": "execute_result",
          "data": {
            "text/plain": [
              "        MSSubClass MSZoning  LotFrontage  LotArea Street Alley LotShape  \\\n",
              "count         1459     1455       1232.0     1459   1459   107     1459   \n",
              "unique          16        5        115.0     1106      2     2        4   \n",
              "top             20       RL         60.0     9600   Pave  Grvl      Reg   \n",
              "freq           543     1114        133.0       20   1453    70      934   \n",
              "\n",
              "       LandContour LotConfig LandSlope  ... ScreenPorch PoolArea PoolQC  \\\n",
              "count         1459      1459      1459  ...        1459     1459      3   \n",
              "unique           4         5         3  ...          75        7      2   \n",
              "top            Lvl    Inside       Gtl  ...           0        0     Ex   \n",
              "freq          1311      1081      1396  ...        1319     1453      2   \n",
              "\n",
              "        Fence MiscFeature  MiscVal  MoSold  YrSold  SaleType SaleCondition  \n",
              "count     290          51     1459    1459    1459      1458          1459  \n",
              "unique      4           3       26      12       5         9             6  \n",
              "top     MnPrv        Shed        0       6    2007        WD        Normal  \n",
              "freq      172          46     1408     250     363      1258          1204  \n",
              "\n",
              "[4 rows x 78 columns]"
            ],
            "text/html": [
              "\n",
              "  <div id=\"df-7e6d0a32-a3b5-4978-afaa-2a450901cb10\">\n",
              "    <div class=\"colab-df-container\">\n",
              "      <div>\n",
              "<style scoped>\n",
              "    .dataframe tbody tr th:only-of-type {\n",
              "        vertical-align: middle;\n",
              "    }\n",
              "\n",
              "    .dataframe tbody tr th {\n",
              "        vertical-align: top;\n",
              "    }\n",
              "\n",
              "    .dataframe thead th {\n",
              "        text-align: right;\n",
              "    }\n",
              "</style>\n",
              "<table border=\"1\" class=\"dataframe\">\n",
              "  <thead>\n",
              "    <tr style=\"text-align: right;\">\n",
              "      <th></th>\n",
              "      <th>MSSubClass</th>\n",
              "      <th>MSZoning</th>\n",
              "      <th>LotFrontage</th>\n",
              "      <th>LotArea</th>\n",
              "      <th>Street</th>\n",
              "      <th>Alley</th>\n",
              "      <th>LotShape</th>\n",
              "      <th>LandContour</th>\n",
              "      <th>LotConfig</th>\n",
              "      <th>LandSlope</th>\n",
              "      <th>...</th>\n",
              "      <th>ScreenPorch</th>\n",
              "      <th>PoolArea</th>\n",
              "      <th>PoolQC</th>\n",
              "      <th>Fence</th>\n",
              "      <th>MiscFeature</th>\n",
              "      <th>MiscVal</th>\n",
              "      <th>MoSold</th>\n",
              "      <th>YrSold</th>\n",
              "      <th>SaleType</th>\n",
              "      <th>SaleCondition</th>\n",
              "    </tr>\n",
              "  </thead>\n",
              "  <tbody>\n",
              "    <tr>\n",
              "      <th>count</th>\n",
              "      <td>1459</td>\n",
              "      <td>1455</td>\n",
              "      <td>1232.0</td>\n",
              "      <td>1459</td>\n",
              "      <td>1459</td>\n",
              "      <td>107</td>\n",
              "      <td>1459</td>\n",
              "      <td>1459</td>\n",
              "      <td>1459</td>\n",
              "      <td>1459</td>\n",
              "      <td>...</td>\n",
              "      <td>1459</td>\n",
              "      <td>1459</td>\n",
              "      <td>3</td>\n",
              "      <td>290</td>\n",
              "      <td>51</td>\n",
              "      <td>1459</td>\n",
              "      <td>1459</td>\n",
              "      <td>1459</td>\n",
              "      <td>1458</td>\n",
              "      <td>1459</td>\n",
              "    </tr>\n",
              "    <tr>\n",
              "      <th>unique</th>\n",
              "      <td>16</td>\n",
              "      <td>5</td>\n",
              "      <td>115.0</td>\n",
              "      <td>1106</td>\n",
              "      <td>2</td>\n",
              "      <td>2</td>\n",
              "      <td>4</td>\n",
              "      <td>4</td>\n",
              "      <td>5</td>\n",
              "      <td>3</td>\n",
              "      <td>...</td>\n",
              "      <td>75</td>\n",
              "      <td>7</td>\n",
              "      <td>2</td>\n",
              "      <td>4</td>\n",
              "      <td>3</td>\n",
              "      <td>26</td>\n",
              "      <td>12</td>\n",
              "      <td>5</td>\n",
              "      <td>9</td>\n",
              "      <td>6</td>\n",
              "    </tr>\n",
              "    <tr>\n",
              "      <th>top</th>\n",
              "      <td>20</td>\n",
              "      <td>RL</td>\n",
              "      <td>60.0</td>\n",
              "      <td>9600</td>\n",
              "      <td>Pave</td>\n",
              "      <td>Grvl</td>\n",
              "      <td>Reg</td>\n",
              "      <td>Lvl</td>\n",
              "      <td>Inside</td>\n",
              "      <td>Gtl</td>\n",
              "      <td>...</td>\n",
              "      <td>0</td>\n",
              "      <td>0</td>\n",
              "      <td>Ex</td>\n",
              "      <td>MnPrv</td>\n",
              "      <td>Shed</td>\n",
              "      <td>0</td>\n",
              "      <td>6</td>\n",
              "      <td>2007</td>\n",
              "      <td>WD</td>\n",
              "      <td>Normal</td>\n",
              "    </tr>\n",
              "    <tr>\n",
              "      <th>freq</th>\n",
              "      <td>543</td>\n",
              "      <td>1114</td>\n",
              "      <td>133.0</td>\n",
              "      <td>20</td>\n",
              "      <td>1453</td>\n",
              "      <td>70</td>\n",
              "      <td>934</td>\n",
              "      <td>1311</td>\n",
              "      <td>1081</td>\n",
              "      <td>1396</td>\n",
              "      <td>...</td>\n",
              "      <td>1319</td>\n",
              "      <td>1453</td>\n",
              "      <td>2</td>\n",
              "      <td>172</td>\n",
              "      <td>46</td>\n",
              "      <td>1408</td>\n",
              "      <td>250</td>\n",
              "      <td>363</td>\n",
              "      <td>1258</td>\n",
              "      <td>1204</td>\n",
              "    </tr>\n",
              "  </tbody>\n",
              "</table>\n",
              "<p>4 rows × 78 columns</p>\n",
              "</div>\n",
              "      <button class=\"colab-df-convert\" onclick=\"convertToInteractive('df-7e6d0a32-a3b5-4978-afaa-2a450901cb10')\"\n",
              "              title=\"Convert this dataframe to an interactive table.\"\n",
              "              style=\"display:none;\">\n",
              "        \n",
              "  <svg xmlns=\"http://www.w3.org/2000/svg\" height=\"24px\"viewBox=\"0 0 24 24\"\n",
              "       width=\"24px\">\n",
              "    <path d=\"M0 0h24v24H0V0z\" fill=\"none\"/>\n",
              "    <path d=\"M18.56 5.44l.94 2.06.94-2.06 2.06-.94-2.06-.94-.94-2.06-.94 2.06-2.06.94zm-11 1L8.5 8.5l.94-2.06 2.06-.94-2.06-.94L8.5 2.5l-.94 2.06-2.06.94zm10 10l.94 2.06.94-2.06 2.06-.94-2.06-.94-.94-2.06-.94 2.06-2.06.94z\"/><path d=\"M17.41 7.96l-1.37-1.37c-.4-.4-.92-.59-1.43-.59-.52 0-1.04.2-1.43.59L10.3 9.45l-7.72 7.72c-.78.78-.78 2.05 0 2.83L4 21.41c.39.39.9.59 1.41.59.51 0 1.02-.2 1.41-.59l7.78-7.78 2.81-2.81c.8-.78.8-2.07 0-2.86zM5.41 20L4 18.59l7.72-7.72 1.47 1.35L5.41 20z\"/>\n",
              "  </svg>\n",
              "      </button>\n",
              "      \n",
              "  <style>\n",
              "    .colab-df-container {\n",
              "      display:flex;\n",
              "      flex-wrap:wrap;\n",
              "      gap: 12px;\n",
              "    }\n",
              "\n",
              "    .colab-df-convert {\n",
              "      background-color: #E8F0FE;\n",
              "      border: none;\n",
              "      border-radius: 50%;\n",
              "      cursor: pointer;\n",
              "      display: none;\n",
              "      fill: #1967D2;\n",
              "      height: 32px;\n",
              "      padding: 0 0 0 0;\n",
              "      width: 32px;\n",
              "    }\n",
              "\n",
              "    .colab-df-convert:hover {\n",
              "      background-color: #E2EBFA;\n",
              "      box-shadow: 0px 1px 2px rgba(60, 64, 67, 0.3), 0px 1px 3px 1px rgba(60, 64, 67, 0.15);\n",
              "      fill: #174EA6;\n",
              "    }\n",
              "\n",
              "    [theme=dark] .colab-df-convert {\n",
              "      background-color: #3B4455;\n",
              "      fill: #D2E3FC;\n",
              "    }\n",
              "\n",
              "    [theme=dark] .colab-df-convert:hover {\n",
              "      background-color: #434B5C;\n",
              "      box-shadow: 0px 1px 3px 1px rgba(0, 0, 0, 0.15);\n",
              "      filter: drop-shadow(0px 1px 2px rgba(0, 0, 0, 0.3));\n",
              "      fill: #FFFFFF;\n",
              "    }\n",
              "  </style>\n",
              "\n",
              "      <script>\n",
              "        const buttonEl =\n",
              "          document.querySelector('#df-7e6d0a32-a3b5-4978-afaa-2a450901cb10 button.colab-df-convert');\n",
              "        buttonEl.style.display =\n",
              "          google.colab.kernel.accessAllowed ? 'block' : 'none';\n",
              "\n",
              "        async function convertToInteractive(key) {\n",
              "          const element = document.querySelector('#df-7e6d0a32-a3b5-4978-afaa-2a450901cb10');\n",
              "          const dataTable =\n",
              "            await google.colab.kernel.invokeFunction('convertToInteractive',\n",
              "                                                     [key], {});\n",
              "          if (!dataTable) return;\n",
              "\n",
              "          const docLinkHtml = 'Like what you see? Visit the ' +\n",
              "            '<a target=\"_blank\" href=https://colab.research.google.com/notebooks/data_table.ipynb>data table notebook</a>'\n",
              "            + ' to learn more about interactive tables.';\n",
              "          element.innerHTML = '';\n",
              "          dataTable['output_type'] = 'display_data';\n",
              "          await google.colab.output.renderOutput(dataTable, element);\n",
              "          const docLink = document.createElement('div');\n",
              "          docLink.innerHTML = docLinkHtml;\n",
              "          element.appendChild(docLink);\n",
              "        }\n",
              "      </script>\n",
              "    </div>\n",
              "  </div>\n",
              "  "
            ]
          },
          "metadata": {},
          "execution_count": 9
        }
      ]
    },
    {
      "cell_type": "markdown",
      "source": [
        "Columnas con nulos\n",
        "\n"
      ],
      "metadata": {
        "id": "b0MKz8PwUKnA"
      }
    },
    {
      "cell_type": "code",
      "source": [
        "df.info() "
      ],
      "metadata": {
        "colab": {
          "base_uri": "https://localhost:8080/"
        },
        "id": "W4wI2Doqaxvf",
        "outputId": "73145a63-1f6f-4eef-987e-1befb7691c19"
      },
      "execution_count": null,
      "outputs": [
        {
          "output_type": "stream",
          "name": "stdout",
          "text": [
            "<class 'pandas.core.frame.DataFrame'>\n",
            "RangeIndex: 1459 entries, 0 to 1458\n",
            "Data columns (total 78 columns):\n",
            " #   Column         Non-Null Count  Dtype \n",
            "---  ------         --------------  ----- \n",
            " 0   MSSubClass     1459 non-null   object\n",
            " 1   MSZoning       1455 non-null   object\n",
            " 2   LotFrontage    1232 non-null   object\n",
            " 3   LotArea        1459 non-null   object\n",
            " 4   Street         1459 non-null   object\n",
            " 5   Alley          107 non-null    object\n",
            " 6   LotShape       1459 non-null   object\n",
            " 7   LandContour    1459 non-null   object\n",
            " 8   LotConfig      1459 non-null   object\n",
            " 9   LandSlope      1459 non-null   object\n",
            " 10  Neighborhood   1459 non-null   object\n",
            " 11  Condition1     1459 non-null   object\n",
            " 12  Condition2     1459 non-null   object\n",
            " 13  BldgType       1459 non-null   object\n",
            " 14  HouseStyle     1459 non-null   object\n",
            " 15  OverallQual    1459 non-null   object\n",
            " 16  OverallCond    1459 non-null   object\n",
            " 17  YearBuilt      1459 non-null   object\n",
            " 18  YearRemodAdd   1459 non-null   object\n",
            " 19  RoofStyle      1459 non-null   object\n",
            " 20  RoofMatl       1459 non-null   object\n",
            " 21  Exterior1st    1458 non-null   object\n",
            " 22  Exterior2nd    1458 non-null   object\n",
            " 23  MasVnrType     1443 non-null   object\n",
            " 24  MasVnrArea     1444 non-null   object\n",
            " 25  ExterQual      1459 non-null   object\n",
            " 26  ExterCond      1459 non-null   object\n",
            " 27  Foundation     1459 non-null   object\n",
            " 28  BsmtQual       1415 non-null   object\n",
            " 29  BsmtCond       1414 non-null   object\n",
            " 30  BsmtExposure   1415 non-null   object\n",
            " 31  BsmtFinType1   1417 non-null   object\n",
            " 32  BsmtFinSF1     1458 non-null   object\n",
            " 33  BsmtFinType2   1417 non-null   object\n",
            " 34  BsmtFinSF2     1458 non-null   object\n",
            " 35  BsmtUnfSF      1458 non-null   object\n",
            " 36  TotalBsmtSF    1458 non-null   object\n",
            " 37  Heating        1459 non-null   object\n",
            " 38  HeatingQC      1459 non-null   object\n",
            " 39  CentralAir     1459 non-null   object\n",
            " 40  Electrical     1459 non-null   object\n",
            " 41  1stFlrSF       1459 non-null   object\n",
            " 42  2ndFlrSF       1459 non-null   object\n",
            " 43  LowQualFinSF   1459 non-null   object\n",
            " 44  GrLivArea      1459 non-null   object\n",
            " 45  BsmtFullBath   1457 non-null   object\n",
            " 46  BsmtHalfBath   1457 non-null   object\n",
            " 47  FullBath       1459 non-null   object\n",
            " 48  HalfBath       1459 non-null   object\n",
            " 49  BedroomAbvGr   1459 non-null   object\n",
            " 50  KitchenAbvGr   1459 non-null   object\n",
            " 51  KitchenQual    1458 non-null   object\n",
            " 52  TotRmsAbvGrd   1459 non-null   object\n",
            " 53  Functional     1457 non-null   object\n",
            " 54  Fireplaces     1459 non-null   object\n",
            " 55  FireplaceQu    729 non-null    object\n",
            " 56  GarageType     1383 non-null   object\n",
            " 57  GarageYrBlt    1381 non-null   object\n",
            " 58  GarageFinish   1381 non-null   object\n",
            " 59  GarageCars     1458 non-null   object\n",
            " 60  GarageArea     1458 non-null   object\n",
            " 61  GarageQual     1381 non-null   object\n",
            " 62  GarageCond     1381 non-null   object\n",
            " 63  PavedDrive     1459 non-null   object\n",
            " 64  WoodDeckSF     1459 non-null   object\n",
            " 65  OpenPorchSF    1459 non-null   object\n",
            " 66  EnclosedPorch  1459 non-null   object\n",
            " 67  3SsnPorch      1459 non-null   object\n",
            " 68  ScreenPorch    1459 non-null   object\n",
            " 69  PoolArea       1459 non-null   object\n",
            " 70  PoolQC         3 non-null      object\n",
            " 71  Fence          290 non-null    object\n",
            " 72  MiscFeature    51 non-null     object\n",
            " 73  MiscVal        1459 non-null   object\n",
            " 74  MoSold         1459 non-null   object\n",
            " 75  YrSold         1459 non-null   object\n",
            " 76  SaleType       1458 non-null   object\n",
            " 77  SaleCondition  1459 non-null   object\n",
            "dtypes: object(78)\n",
            "memory usage: 889.2+ KB\n"
          ]
        }
      ]
    },
    {
      "cell_type": "code",
      "source": [
        "df.isnull().sum()"
      ],
      "metadata": {
        "colab": {
          "base_uri": "https://localhost:8080/"
        },
        "id": "FxxNH65ZUOM6",
        "outputId": "e3b48720-6a4c-4845-8dbc-37a5021f1876"
      },
      "execution_count": null,
      "outputs": [
        {
          "output_type": "execute_result",
          "data": {
            "text/plain": [
              "MSSubClass         0\n",
              "MSZoning           4\n",
              "LotFrontage      227\n",
              "LotArea            0\n",
              "Street             0\n",
              "                ... \n",
              "MiscVal            0\n",
              "MoSold             0\n",
              "YrSold             0\n",
              "SaleType           1\n",
              "SaleCondition      0\n",
              "Length: 78, dtype: int64"
            ]
          },
          "metadata": {},
          "execution_count": 11
        }
      ]
    },
    {
      "cell_type": "markdown",
      "source": [
        "Librerias para graficos"
      ],
      "metadata": {
        "id": "Su4o73e1WAdZ"
      }
    },
    {
      "cell_type": "code",
      "source": [
        "from matplotlib.pylab import rcParams\n",
        "import matplotlib.pyplot as plt"
      ],
      "metadata": {
        "id": "QHgTmoAcV_gr"
      },
      "execution_count": null,
      "outputs": []
    },
    {
      "cell_type": "markdown",
      "source": [],
      "metadata": {
        "id": "RdqY_4ccWbnf"
      }
    },
    {
      "cell_type": "code",
      "source": [
        "plt.hist(x=df['MSSubClass'], color='#F2AB6D', rwidth=0.85)\n",
        "plt.show()\n",
        "\n",
        "print(\"\\nUnicos.\")\n",
        "df.MSSubClass.unique()\n",
        "\n"
      ],
      "metadata": {
        "colab": {
          "base_uri": "https://localhost:8080/",
          "height": 334
        },
        "id": "O_gAs9-9Wcej",
        "outputId": "6a7341e9-5d05-4055-9af2-a3a323a72171"
      },
      "execution_count": null,
      "outputs": [
        {
          "output_type": "display_data",
          "data": {
            "text/plain": [
              "<Figure size 432x288 with 1 Axes>"
            ],
            "image/png": "[encoded data removed]"
          },
          "metadata": {
            "needs_background": "light"
          }
        },
        {
          "output_type": "stream",
          "name": "stdout",
          "text": [
            "\n",
            "Unicos.\n"
          ]
        },
        {
          "output_type": "execute_result",
          "data": {
            "text/plain": [
              "array([20, 60, 120, 160, 80, 30, 50, 90, 85, 190, 45, 70, 75, 180, 40,\n",
              "       150], dtype=object)"
            ]
          },
          "metadata": {},
          "execution_count": 13
        }
      ]
    },
    {
      "cell_type": "code",
      "source": [
        "print(\"\\nConteo.\")\n",
        "df.MSSubClass.value_counts()\n",
        "\n"
      ],
      "metadata": {
        "colab": {
          "base_uri": "https://localhost:8080/"
        },
        "id": "D0gzw_hmaJJV",
        "outputId": "e2d6f088-90e6-49c3-aeaf-134e459cbf51"
      },
      "execution_count": null,
      "outputs": [
        {
          "output_type": "stream",
          "name": "stdout",
          "text": [
            "\n",
            "Conteo.\n"
          ]
        },
        {
          "output_type": "execute_result",
          "data": {
            "text/plain": [
              "20     543\n",
              "60     276\n",
              "50     143\n",
              "120     95\n",
              "30      70\n",
              "70      68\n",
              "160     65\n",
              "80      60\n",
              "90      57\n",
              "190     31\n",
              "85      28\n",
              "75       7\n",
              "180      7\n",
              "45       6\n",
              "40       2\n",
              "150      1\n",
              "Name: MSSubClass, dtype: int64"
            ]
          },
          "metadata": {},
          "execution_count": 14
        }
      ]
    },
    {
      "cell_type": "code",
      "source": [
        "print(\"\\Descrito.\")\n",
        "df.MSSubClass.describe() #datos estadisticos minimos"
      ],
      "metadata": {
        "colab": {
          "base_uri": "https://localhost:8080/"
        },
        "id": "vpQCkcgAaay5",
        "outputId": "65688ca7-cd26-431c-bd60-64c83557c981"
      },
      "execution_count": null,
      "outputs": [
        {
          "output_type": "stream",
          "name": "stdout",
          "text": [
            "\\Descrito.\n"
          ]
        },
        {
          "output_type": "execute_result",
          "data": {
            "text/plain": [
              "count     1459\n",
              "unique      16\n",
              "top         20\n",
              "freq       543\n",
              "Name: MSSubClass, dtype: int64"
            ]
          },
          "metadata": {},
          "execution_count": 15
        }
      ]
    },
    {
      "cell_type": "code",
      "source": [
        "df.describe()"
      ],
      "metadata": {
        "colab": {
          "base_uri": "https://localhost:8080/",
          "height": 268
        },
        "id": "CLHnzSK_fyUF",
        "outputId": "46c7bc17-7301-4b85-9b2b-5b1451e3fdc5"
      },
      "execution_count": null,
      "outputs": [
        {
          "output_type": "execute_result",
          "data": {
            "text/plain": [
              "        MSSubClass MSZoning  LotFrontage  LotArea Street Alley LotShape  \\\n",
              "count         1459     1455       1232.0     1459   1459   107     1459   \n",
              "unique          16        5        115.0     1106      2     2        4   \n",
              "top             20       RL         60.0     9600   Pave  Grvl      Reg   \n",
              "freq           543     1114        133.0       20   1453    70      934   \n",
              "\n",
              "       LandContour LotConfig LandSlope  ... ScreenPorch PoolArea PoolQC  \\\n",
              "count         1459      1459      1459  ...        1459     1459      3   \n",
              "unique           4         5         3  ...          75        7      2   \n",
              "top            Lvl    Inside       Gtl  ...           0        0     Ex   \n",
              "freq          1311      1081      1396  ...        1319     1453      2   \n",
              "\n",
              "        Fence MiscFeature  MiscVal  MoSold  YrSold  SaleType SaleCondition  \n",
              "count     290          51     1459    1459    1459      1458          1459  \n",
              "unique      4           3       26      12       5         9             6  \n",
              "top     MnPrv        Shed        0       6    2007        WD        Normal  \n",
              "freq      172          46     1408     250     363      1258          1204  \n",
              "\n",
              "[4 rows x 78 columns]"
            ],
            "text/html": [
              "\n",
              "  <div id=\"df-9433731c-1e59-4857-972f-cdb4cf510858\">\n",
              "    <div class=\"colab-df-container\">\n",
              "      <div>\n",
              "<style scoped>\n",
              "    .dataframe tbody tr th:only-of-type {\n",
              "        vertical-align: middle;\n",
              "    }\n",
              "\n",
              "    .dataframe tbody tr th {\n",
              "        vertical-align: top;\n",
              "    }\n",
              "\n",
              "    .dataframe thead th {\n",
              "        text-align: right;\n",
              "    }\n",
              "</style>\n",
              "<table border=\"1\" class=\"dataframe\">\n",
              "  <thead>\n",
              "    <tr style=\"text-align: right;\">\n",
              "      <th></th>\n",
              "      <th>MSSubClass</th>\n",
              "      <th>MSZoning</th>\n",
              "      <th>LotFrontage</th>\n",
              "      <th>LotArea</th>\n",
              "      <th>Street</th>\n",
              "      <th>Alley</th>\n",
              "      <th>LotShape</th>\n",
              "      <th>LandContour</th>\n",
              "      <th>LotConfig</th>\n",
              "      <th>LandSlope</th>\n",
              "      <th>...</th>\n",
              "      <th>ScreenPorch</th>\n",
              "      <th>PoolArea</th>\n",
              "      <th>PoolQC</th>\n",
              "      <th>Fence</th>\n",
              "      <th>MiscFeature</th>\n",
              "      <th>MiscVal</th>\n",
              "      <th>MoSold</th>\n",
              "      <th>YrSold</th>\n",
              "      <th>SaleType</th>\n",
              "      <th>SaleCondition</th>\n",
              "    </tr>\n",
              "  </thead>\n",
              "  <tbody>\n",
              "    <tr>\n",
              "      <th>count</th>\n",
              "      <td>1459</td>\n",
              "      <td>1455</td>\n",
              "      <td>1232.0</td>\n",
              "      <td>1459</td>\n",
              "      <td>1459</td>\n",
              "      <td>107</td>\n",
              "      <td>1459</td>\n",
              "      <td>1459</td>\n",
              "      <td>1459</td>\n",
              "      <td>1459</td>\n",
              "      <td>...</td>\n",
              "      <td>1459</td>\n",
              "      <td>1459</td>\n",
              "      <td>3</td>\n",
              "      <td>290</td>\n",
              "      <td>51</td>\n",
              "      <td>1459</td>\n",
              "      <td>1459</td>\n",
              "      <td>1459</td>\n",
              "      <td>1458</td>\n",
              "      <td>1459</td>\n",
              "    </tr>\n",
              "    <tr>\n",
              "      <th>unique</th>\n",
              "      <td>16</td>\n",
              "      <td>5</td>\n",
              "      <td>115.0</td>\n",
              "      <td>1106</td>\n",
              "      <td>2</td>\n",
              "      <td>2</td>\n",
              "      <td>4</td>\n",
              "      <td>4</td>\n",
              "      <td>5</td>\n",
              "      <td>3</td>\n",
              "      <td>...</td>\n",
              "      <td>75</td>\n",
              "      <td>7</td>\n",
              "      <td>2</td>\n",
              "      <td>4</td>\n",
              "      <td>3</td>\n",
              "      <td>26</td>\n",
              "      <td>12</td>\n",
              "      <td>5</td>\n",
              "      <td>9</td>\n",
              "      <td>6</td>\n",
              "    </tr>\n",
              "    <tr>\n",
              "      <th>top</th>\n",
              "      <td>20</td>\n",
              "      <td>RL</td>\n",
              "      <td>60.0</td>\n",
              "      <td>9600</td>\n",
              "      <td>Pave</td>\n",
              "      <td>Grvl</td>\n",
              "      <td>Reg</td>\n",
              "      <td>Lvl</td>\n",
              "      <td>Inside</td>\n",
              "      <td>Gtl</td>\n",
              "      <td>...</td>\n",
              "      <td>0</td>\n",
              "      <td>0</td>\n",
              "      <td>Ex</td>\n",
              "      <td>MnPrv</td>\n",
              "      <td>Shed</td>\n",
              "      <td>0</td>\n",
              "      <td>6</td>\n",
              "      <td>2007</td>\n",
              "      <td>WD</td>\n",
              "      <td>Normal</td>\n",
              "    </tr>\n",
              "    <tr>\n",
              "      <th>freq</th>\n",
              "      <td>543</td>\n",
              "      <td>1114</td>\n",
              "      <td>133.0</td>\n",
              "      <td>20</td>\n",
              "      <td>1453</td>\n",
              "      <td>70</td>\n",
              "      <td>934</td>\n",
              "      <td>1311</td>\n",
              "      <td>1081</td>\n",
              "      <td>1396</td>\n",
              "      <td>...</td>\n",
              "      <td>1319</td>\n",
              "      <td>1453</td>\n",
              "      <td>2</td>\n",
              "      <td>172</td>\n",
              "      <td>46</td>\n",
              "      <td>1408</td>\n",
              "      <td>250</td>\n",
              "      <td>363</td>\n",
              "      <td>1258</td>\n",
              "      <td>1204</td>\n",
              "    </tr>\n",
              "  </tbody>\n",
              "</table>\n",
              "<p>4 rows × 78 columns</p>\n",
              "</div>\n",
              "      <button class=\"colab-df-convert\" onclick=\"convertToInteractive('df-9433731c-1e59-4857-972f-cdb4cf510858')\"\n",
              "              title=\"Convert this dataframe to an interactive table.\"\n",
              "              style=\"display:none;\">\n",
              "        \n",
              "  <svg xmlns=\"http://www.w3.org/2000/svg\" height=\"24px\"viewBox=\"0 0 24 24\"\n",
              "       width=\"24px\">\n",
              "    <path d=\"M0 0h24v24H0V0z\" fill=\"none\"/>\n",
              "    <path d=\"M18.56 5.44l.94 2.06.94-2.06 2.06-.94-2.06-.94-.94-2.06-.94 2.06-2.06.94zm-11 1L8.5 8.5l.94-2.06 2.06-.94-2.06-.94L8.5 2.5l-.94 2.06-2.06.94zm10 10l.94 2.06.94-2.06 2.06-.94-2.06-.94-.94-2.06-.94 2.06-2.06.94z\"/><path d=\"M17.41 7.96l-1.37-1.37c-.4-.4-.92-.59-1.43-.59-.52 0-1.04.2-1.43.59L10.3 9.45l-7.72 7.72c-.78.78-.78 2.05 0 2.83L4 21.41c.39.39.9.59 1.41.59.51 0 1.02-.2 1.41-.59l7.78-7.78 2.81-2.81c.8-.78.8-2.07 0-2.86zM5.41 20L4 18.59l7.72-7.72 1.47 1.35L5.41 20z\"/>\n",
              "  </svg>\n",
              "      </button>\n",
              "      \n",
              "  <style>\n",
              "    .colab-df-container {\n",
              "      display:flex;\n",
              "      flex-wrap:wrap;\n",
              "      gap: 12px;\n",
              "    }\n",
              "\n",
              "    .colab-df-convert {\n",
              "      background-color: #E8F0FE;\n",
              "      border: none;\n",
              "      border-radius: 50%;\n",
              "      cursor: pointer;\n",
              "      display: none;\n",
              "      fill: #1967D2;\n",
              "      height: 32px;\n",
              "      padding: 0 0 0 0;\n",
              "      width: 32px;\n",
              "    }\n",
              "\n",
              "    .colab-df-convert:hover {\n",
              "      background-color: #E2EBFA;\n",
              "      box-shadow: 0px 1px 2px rgba(60, 64, 67, 0.3), 0px 1px 3px 1px rgba(60, 64, 67, 0.15);\n",
              "      fill: #174EA6;\n",
              "    }\n",
              "\n",
              "    [theme=dark] .colab-df-convert {\n",
              "      background-color: #3B4455;\n",
              "      fill: #D2E3FC;\n",
              "    }\n",
              "\n",
              "    [theme=dark] .colab-df-convert:hover {\n",
              "      background-color: #434B5C;\n",
              "      box-shadow: 0px 1px 3px 1px rgba(0, 0, 0, 0.15);\n",
              "      filter: drop-shadow(0px 1px 2px rgba(0, 0, 0, 0.3));\n",
              "      fill: #FFFFFF;\n",
              "    }\n",
              "  </style>\n",
              "\n",
              "      <script>\n",
              "        const buttonEl =\n",
              "          document.querySelector('#df-9433731c-1e59-4857-972f-cdb4cf510858 button.colab-df-convert');\n",
              "        buttonEl.style.display =\n",
              "          google.colab.kernel.accessAllowed ? 'block' : 'none';\n",
              "\n",
              "        async function convertToInteractive(key) {\n",
              "          const element = document.querySelector('#df-9433731c-1e59-4857-972f-cdb4cf510858');\n",
              "          const dataTable =\n",
              "            await google.colab.kernel.invokeFunction('convertToInteractive',\n",
              "                                                     [key], {});\n",
              "          if (!dataTable) return;\n",
              "\n",
              "          const docLinkHtml = 'Like what you see? Visit the ' +\n",
              "            '<a target=\"_blank\" href=https://colab.research.google.com/notebooks/data_table.ipynb>data table notebook</a>'\n",
              "            + ' to learn more about interactive tables.';\n",
              "          element.innerHTML = '';\n",
              "          dataTable['output_type'] = 'display_data';\n",
              "          await google.colab.output.renderOutput(dataTable, element);\n",
              "          const docLink = document.createElement('div');\n",
              "          docLink.innerHTML = docLinkHtml;\n",
              "          element.appendChild(docLink);\n",
              "        }\n",
              "      </script>\n",
              "    </div>\n",
              "  </div>\n",
              "  "
            ]
          },
          "metadata": {},
          "execution_count": 16
        }
      ]
    },
    {
      "cell_type": "code",
      "source": [
        "df.head(5)"
      ],
      "metadata": {
        "colab": {
          "base_uri": "https://localhost:8080/",
          "height": 300
        },
        "id": "EyVlaKeYf1H4",
        "outputId": "8750f5e0-f183-4ddf-f947-fe493d897c0a"
      },
      "execution_count": null,
      "outputs": [
        {
          "output_type": "execute_result",
          "data": {
            "text/plain": [
              "  MSSubClass MSZoning LotFrontage LotArea Street Alley LotShape LandContour  \\\n",
              "0         20       RH        80.0   11622   Pave   NaN      Reg         Lvl   \n",
              "1         20       RL        81.0   14267   Pave   NaN      IR1         Lvl   \n",
              "2         60       RL        74.0   13830   Pave   NaN      IR1         Lvl   \n",
              "3         60       RL        78.0    9978   Pave   NaN      IR1         Lvl   \n",
              "4        120       RL        43.0    5005   Pave   NaN      IR1         HLS   \n",
              "\n",
              "  LotConfig LandSlope  ... ScreenPorch PoolArea PoolQC  Fence MiscFeature  \\\n",
              "0    Inside       Gtl  ...         120        0    NaN  MnPrv         NaN   \n",
              "1    Corner       Gtl  ...           0        0    NaN    NaN        Gar2   \n",
              "2    Inside       Gtl  ...           0        0    NaN  MnPrv         NaN   \n",
              "3    Inside       Gtl  ...           0        0    NaN    NaN         NaN   \n",
              "4    Inside       Gtl  ...         144        0    NaN    NaN         NaN   \n",
              "\n",
              "  MiscVal MoSold YrSold SaleType SaleCondition  \n",
              "0       0      6   2010       WD        Normal  \n",
              "1   12500      6   2010       WD        Normal  \n",
              "2       0      3   2010       WD        Normal  \n",
              "3       0      6   2010       WD        Normal  \n",
              "4       0      1   2010       WD        Normal  \n",
              "\n",
              "[5 rows x 78 columns]"
            ],
            "text/html": [
              "\n",
              "  <div id=\"df-afafcc51-e02c-49f5-962a-d78307c8dc47\">\n",
              "    <div class=\"colab-df-container\">\n",
              "      <div>\n",
              "<style scoped>\n",
              "    .dataframe tbody tr th:only-of-type {\n",
              "        vertical-align: middle;\n",
              "    }\n",
              "\n",
              "    .dataframe tbody tr th {\n",
              "        vertical-align: top;\n",
              "    }\n",
              "\n",
              "    .dataframe thead th {\n",
              "        text-align: right;\n",
              "    }\n",
              "</style>\n",
              "<table border=\"1\" class=\"dataframe\">\n",
              "  <thead>\n",
              "    <tr style=\"text-align: right;\">\n",
              "      <th></th>\n",
              "      <th>MSSubClass</th>\n",
              "      <th>MSZoning</th>\n",
              "      <th>LotFrontage</th>\n",
              "      <th>LotArea</th>\n",
              "      <th>Street</th>\n",
              "      <th>Alley</th>\n",
              "      <th>LotShape</th>\n",
              "      <th>LandContour</th>\n",
              "      <th>LotConfig</th>\n",
              "      <th>LandSlope</th>\n",
              "      <th>...</th>\n",
              "      <th>ScreenPorch</th>\n",
              "      <th>PoolArea</th>\n",
              "      <th>PoolQC</th>\n",
              "      <th>Fence</th>\n",
              "      <th>MiscFeature</th>\n",
              "      <th>MiscVal</th>\n",
              "      <th>MoSold</th>\n",
              "      <th>YrSold</th>\n",
              "      <th>SaleType</th>\n",
              "      <th>SaleCondition</th>\n",
              "    </tr>\n",
              "  </thead>\n",
              "  <tbody>\n",
              "    <tr>\n",
              "      <th>0</th>\n",
              "      <td>20</td>\n",
              "      <td>RH</td>\n",
              "      <td>80.0</td>\n",
              "      <td>11622</td>\n",
              "      <td>Pave</td>\n",
              "      <td>NaN</td>\n",
              "      <td>Reg</td>\n",
              "      <td>Lvl</td>\n",
              "      <td>Inside</td>\n",
              "      <td>Gtl</td>\n",
              "      <td>...</td>\n",
              "      <td>120</td>\n",
              "      <td>0</td>\n",
              "      <td>NaN</td>\n",
              "      <td>MnPrv</td>\n",
              "      <td>NaN</td>\n",
              "      <td>0</td>\n",
              "      <td>6</td>\n",
              "      <td>2010</td>\n",
              "      <td>WD</td>\n",
              "      <td>Normal</td>\n",
              "    </tr>\n",
              "    <tr>\n",
              "      <th>1</th>\n",
              "      <td>20</td>\n",
              "      <td>RL</td>\n",
              "      <td>81.0</td>\n",
              "      <td>14267</td>\n",
              "      <td>Pave</td>\n",
              "      <td>NaN</td>\n",
              "      <td>IR1</td>\n",
              "      <td>Lvl</td>\n",
              "      <td>Corner</td>\n",
              "      <td>Gtl</td>\n",
              "      <td>...</td>\n",
              "      <td>0</td>\n",
              "      <td>0</td>\n",
              "      <td>NaN</td>\n",
              "      <td>NaN</td>\n",
              "      <td>Gar2</td>\n",
              "      <td>12500</td>\n",
              "      <td>6</td>\n",
              "      <td>2010</td>\n",
              "      <td>WD</td>\n",
              "      <td>Normal</td>\n",
              "    </tr>\n",
              "    <tr>\n",
              "      <th>2</th>\n",
              "      <td>60</td>\n",
              "      <td>RL</td>\n",
              "      <td>74.0</td>\n",
              "      <td>13830</td>\n",
              "      <td>Pave</td>\n",
              "      <td>NaN</td>\n",
              "      <td>IR1</td>\n",
              "      <td>Lvl</td>\n",
              "      <td>Inside</td>\n",
              "      <td>Gtl</td>\n",
              "      <td>...</td>\n",
              "      <td>0</td>\n",
              "      <td>0</td>\n",
              "      <td>NaN</td>\n",
              "      <td>MnPrv</td>\n",
              "      <td>NaN</td>\n",
              "      <td>0</td>\n",
              "      <td>3</td>\n",
              "      <td>2010</td>\n",
              "      <td>WD</td>\n",
              "      <td>Normal</td>\n",
              "    </tr>\n",
              "    <tr>\n",
              "      <th>3</th>\n",
              "      <td>60</td>\n",
              "      <td>RL</td>\n",
              "      <td>78.0</td>\n",
              "      <td>9978</td>\n",
              "      <td>Pave</td>\n",
              "      <td>NaN</td>\n",
              "      <td>IR1</td>\n",
              "      <td>Lvl</td>\n",
              "      <td>Inside</td>\n",
              "      <td>Gtl</td>\n",
              "      <td>...</td>\n",
              "      <td>0</td>\n",
              "      <td>0</td>\n",
              "      <td>NaN</td>\n",
              "      <td>NaN</td>\n",
              "      <td>NaN</td>\n",
              "      <td>0</td>\n",
              "      <td>6</td>\n",
              "      <td>2010</td>\n",
              "      <td>WD</td>\n",
              "      <td>Normal</td>\n",
              "    </tr>\n",
              "    <tr>\n",
              "      <th>4</th>\n",
              "      <td>120</td>\n",
              "      <td>RL</td>\n",
              "      <td>43.0</td>\n",
              "      <td>5005</td>\n",
              "      <td>Pave</td>\n",
              "      <td>NaN</td>\n",
              "      <td>IR1</td>\n",
              "      <td>HLS</td>\n",
              "      <td>Inside</td>\n",
              "      <td>Gtl</td>\n",
              "      <td>...</td>\n",
              "      <td>144</td>\n",
              "      <td>0</td>\n",
              "      <td>NaN</td>\n",
              "      <td>NaN</td>\n",
              "      <td>NaN</td>\n",
              "      <td>0</td>\n",
              "      <td>1</td>\n",
              "      <td>2010</td>\n",
              "      <td>WD</td>\n",
              "      <td>Normal</td>\n",
              "    </tr>\n",
              "  </tbody>\n",
              "</table>\n",
              "<p>5 rows × 78 columns</p>\n",
              "</div>\n",
              "      <button class=\"colab-df-convert\" onclick=\"convertToInteractive('df-afafcc51-e02c-49f5-962a-d78307c8dc47')\"\n",
              "              title=\"Convert this dataframe to an interactive table.\"\n",
              "              style=\"display:none;\">\n",
              "        \n",
              "  <svg xmlns=\"http://www.w3.org/2000/svg\" height=\"24px\"viewBox=\"0 0 24 24\"\n",
              "       width=\"24px\">\n",
              "    <path d=\"M0 0h24v24H0V0z\" fill=\"none\"/>\n",
              "    <path d=\"M18.56 5.44l.94 2.06.94-2.06 2.06-.94-2.06-.94-.94-2.06-.94 2.06-2.06.94zm-11 1L8.5 8.5l.94-2.06 2.06-.94-2.06-.94L8.5 2.5l-.94 2.06-2.06.94zm10 10l.94 2.06.94-2.06 2.06-.94-2.06-.94-.94-2.06-.94 2.06-2.06.94z\"/><path d=\"M17.41 7.96l-1.37-1.37c-.4-.4-.92-.59-1.43-.59-.52 0-1.04.2-1.43.59L10.3 9.45l-7.72 7.72c-.78.78-.78 2.05 0 2.83L4 21.41c.39.39.9.59 1.41.59.51 0 1.02-.2 1.41-.59l7.78-7.78 2.81-2.81c.8-.78.8-2.07 0-2.86zM5.41 20L4 18.59l7.72-7.72 1.47 1.35L5.41 20z\"/>\n",
              "  </svg>\n",
              "      </button>\n",
              "      \n",
              "  <style>\n",
              "    .colab-df-container {\n",
              "      display:flex;\n",
              "      flex-wrap:wrap;\n",
              "      gap: 12px;\n",
              "    }\n",
              "\n",
              "    .colab-df-convert {\n",
              "      background-color: #E8F0FE;\n",
              "      border: none;\n",
              "      border-radius: 50%;\n",
              "      cursor: pointer;\n",
              "      display: none;\n",
              "      fill: #1967D2;\n",
              "      height: 32px;\n",
              "      padding: 0 0 0 0;\n",
              "      width: 32px;\n",
              "    }\n",
              "\n",
              "    .colab-df-convert:hover {\n",
              "      background-color: #E2EBFA;\n",
              "      box-shadow: 0px 1px 2px rgba(60, 64, 67, 0.3), 0px 1px 3px 1px rgba(60, 64, 67, 0.15);\n",
              "      fill: #174EA6;\n",
              "    }\n",
              "\n",
              "    [theme=dark] .colab-df-convert {\n",
              "      background-color: #3B4455;\n",
              "      fill: #D2E3FC;\n",
              "    }\n",
              "\n",
              "    [theme=dark] .colab-df-convert:hover {\n",
              "      background-color: #434B5C;\n",
              "      box-shadow: 0px 1px 3px 1px rgba(0, 0, 0, 0.15);\n",
              "      filter: drop-shadow(0px 1px 2px rgba(0, 0, 0, 0.3));\n",
              "      fill: #FFFFFF;\n",
              "    }\n",
              "  </style>\n",
              "\n",
              "      <script>\n",
              "        const buttonEl =\n",
              "          document.querySelector('#df-afafcc51-e02c-49f5-962a-d78307c8dc47 button.colab-df-convert');\n",
              "        buttonEl.style.display =\n",
              "          google.colab.kernel.accessAllowed ? 'block' : 'none';\n",
              "\n",
              "        async function convertToInteractive(key) {\n",
              "          const element = document.querySelector('#df-afafcc51-e02c-49f5-962a-d78307c8dc47');\n",
              "          const dataTable =\n",
              "            await google.colab.kernel.invokeFunction('convertToInteractive',\n",
              "                                                     [key], {});\n",
              "          if (!dataTable) return;\n",
              "\n",
              "          const docLinkHtml = 'Like what you see? Visit the ' +\n",
              "            '<a target=\"_blank\" href=https://colab.research.google.com/notebooks/data_table.ipynb>data table notebook</a>'\n",
              "            + ' to learn more about interactive tables.';\n",
              "          element.innerHTML = '';\n",
              "          dataTable['output_type'] = 'display_data';\n",
              "          await google.colab.output.renderOutput(dataTable, element);\n",
              "          const docLink = document.createElement('div');\n",
              "          docLink.innerHTML = docLinkHtml;\n",
              "          element.appendChild(docLink);\n",
              "        }\n",
              "      </script>\n",
              "    </div>\n",
              "  </div>\n",
              "  "
            ]
          },
          "metadata": {},
          "execution_count": 17
        }
      ]
    },
    {
      "cell_type": "code",
      "source": [
        "plt.hist(x=df['LotFrontage'], color='#F2AB6D', rwidth=0.85)\n",
        "plt.show()\n",
        "\n",
        "df.LotFrontage.unique()"
      ],
      "metadata": {
        "colab": {
          "base_uri": "https://localhost:8080/",
          "height": 473
        },
        "id": "UdrspFdHW-kD",
        "outputId": "2c1d202f-e772-49fa-ae46-5b02789f488a"
      },
      "execution_count": null,
      "outputs": [
        {
          "output_type": "display_data",
          "data": {
            "text/plain": [
              "<Figure size 432x288 with 1 Axes>"
            ],
            "image/png": "[encoded data removed]"
          },
          "metadata": {
            "needs_background": "light"
          }
        },
        {
          "output_type": "execute_result",
          "data": {
            "text/plain": [
              "array([80.0, 81.0, 74.0, 78.0, 43.0, 75.0, nan, 63.0, 85.0, 70.0, 26.0,\n",
              "       21.0, 24.0, 102.0, 94.0, 90.0, 79.0, 110.0, 105.0, 41.0, 100.0,\n",
              "       67.0, 60.0, 73.0, 92.0, 84.0, 39.0, 88.0, 25.0, 30.0, 57.0, 68.0,\n",
              "       98.0, 120.0, 87.0, 119.0, 65.0, 56.0, 69.0, 50.0, 53.0, 52.0, 51.0,\n",
              "       72.0, 86.0, 124.0, 44.0, 83.0, 64.0, 82.0, 38.0, 89.0, 35.0, 58.0,\n",
              "       66.0, 93.0, 31.0, 76.0, 28.0, 61.0, 95.0, 129.0, 59.0, 77.0, 96.0,\n",
              "       47.0, 34.0, 117.0, 48.0, 62.0, 42.0, 106.0, 112.0, 32.0, 115.0,\n",
              "       71.0, 45.0, 109.0, 113.0, 125.0, 101.0, 104.0, 108.0, 130.0, 135.0,\n",
              "       36.0, 55.0, 136.0, 97.0, 91.0, 37.0, 22.0, 103.0, 99.0, 40.0,\n",
              "       123.0, 54.0, 107.0, 150.0, 160.0, 195.0, 128.0, 33.0, 118.0, 134.0,\n",
              "       155.0, 126.0, 46.0, 149.0, 200.0, 121.0, 131.0, 114.0, 49.0, 133.0,\n",
              "       140.0], dtype=object)"
            ]
          },
          "metadata": {},
          "execution_count": 18
        }
      ]
    },
    {
      "cell_type": "code",
      "source": [
        "plt.hist(x=df['LotArea'], color='#F2AB6D', rwidth=0.85)\n",
        "plt.show()"
      ],
      "metadata": {
        "colab": {
          "base_uri": "https://localhost:8080/",
          "height": 265
        },
        "id": "z2ey10KiXBVn",
        "outputId": "bf6eb4bf-6fe7-4d69-f1c7-e9954d77d0b2"
      },
      "execution_count": null,
      "outputs": [
        {
          "output_type": "display_data",
          "data": {
            "text/plain": [
              "<Figure size 432x288 with 1 Axes>"
            ],
            "image/png": "[encoded data removed]"
          },
          "metadata": {
            "needs_background": "light"
          }
        }
      ]
    },
    {
      "cell_type": "code",
      "source": [
        "plt.hist(x=df['OverallQual'], color='#F2AB6D', rwidth=0.85)\n",
        "plt.show()"
      ],
      "metadata": {
        "colab": {
          "base_uri": "https://localhost:8080/",
          "height": 265
        },
        "id": "hAB5bEJiXSXk",
        "outputId": "beae46da-6360-4a55-cdc8-22ac0f9bc5b2"
      },
      "execution_count": null,
      "outputs": [
        {
          "output_type": "display_data",
          "data": {
            "text/plain": [
              "<Figure size 432x288 with 1 Axes>"
            ],
            "image/png": "[encoded data removed]"
          },
          "metadata": {
            "needs_background": "light"
          }
        }
      ]
    },
    {
      "cell_type": "code",
      "source": [
        "plt.hist(x=df['OverallCond'], color='#F2AB6D', rwidth=0.85)\n",
        "plt.show()"
      ],
      "metadata": {
        "colab": {
          "base_uri": "https://localhost:8080/",
          "height": 265
        },
        "id": "SwR3rJw7XYaW",
        "outputId": "1a189ffd-501b-45b2-aedc-a3f45ddcbd9b"
      },
      "execution_count": null,
      "outputs": [
        {
          "output_type": "display_data",
          "data": {
            "text/plain": [
              "<Figure size 432x288 with 1 Axes>"
            ],
            "image/png": "[encoded data removed]"
          },
          "metadata": {
            "needs_background": "light"
          }
        }
      ]
    },
    {
      "cell_type": "code",
      "source": [
        "plt.hist(x=df['YearBuilt'], color='#F2AB6D', rwidth=0.85)\n",
        "plt.show()"
      ],
      "metadata": {
        "colab": {
          "base_uri": "https://localhost:8080/",
          "height": 265
        },
        "id": "zGTR_SiEXbyH",
        "outputId": "bbb23448-787e-45f4-e0b1-39d5c3372f6d"
      },
      "execution_count": null,
      "outputs": [
        {
          "output_type": "display_data",
          "data": {
            "text/plain": [
              "<Figure size 432x288 with 1 Axes>"
            ],
            "image/png": "[encoded data removed]"
          },
          "metadata": {
            "needs_background": "light"
          }
        }
      ]
    },
    {
      "cell_type": "code",
      "source": [
        "plt.hist(x=df['YearRemodAdd'], color='#F2AB6D', rwidth=0.85)\n",
        "plt.show()"
      ],
      "metadata": {
        "colab": {
          "base_uri": "https://localhost:8080/",
          "height": 265
        },
        "id": "At-l3-VnXf3_",
        "outputId": "bc25fba6-ee98-42cb-e3c1-33c04ea28f25"
      },
      "execution_count": null,
      "outputs": [
        {
          "output_type": "display_data",
          "data": {
            "text/plain": [
              "<Figure size 432x288 with 1 Axes>"
            ],
            "image/png": "[encoded data removed]"
          },
          "metadata": {
            "needs_background": "light"
          }
        }
      ]
    },
    {
      "cell_type": "code",
      "source": [
        "plt.hist(x=df['MasVnrArea'], color='#F2AB6D', rwidth=0.85)\n",
        "plt.show()"
      ],
      "metadata": {
        "colab": {
          "base_uri": "https://localhost:8080/",
          "height": 265
        },
        "id": "agyddaBFXlD2",
        "outputId": "7948e4e6-d373-4b69-f40c-c5cf35249691"
      },
      "execution_count": null,
      "outputs": [
        {
          "output_type": "display_data",
          "data": {
            "text/plain": [
              "<Figure size 432x288 with 1 Axes>"
            ],
            "image/png": "[encoded data removed]"
          },
          "metadata": {
            "needs_background": "light"
          }
        }
      ]
    },
    {
      "cell_type": "markdown",
      "source": [
        "# Correlacion entre valores"
      ],
      "metadata": {
        "id": "maetWvKOrsDI"
      }
    },
    {
      "cell_type": "code",
      "source": [
        "corrTrain = df.corr()"
      ],
      "metadata": {
        "id": "YJsrbnwkrvGQ"
      },
      "execution_count": null,
      "outputs": []
    },
    {
      "cell_type": "code",
      "source": [
        "fig, ax = plt.subplots(figsize=(15,15))\n",
        "sns.heatmap(corrTrain,square=True)\n",
        "plt.show()"
      ],
      "metadata": {
        "colab": {
          "base_uri": "https://localhost:8080/",
          "height": 1000
        },
        "id": "1Q3sPwtcsHoK",
        "outputId": "e29bd338-6ba2-4c53-95c6-0b55418b12e6"
      },
      "execution_count": null,
      "outputs": [
        {
          "output_type": "error",
          "ename": "NameError",
          "evalue": "ignored",
          "traceback": [
            "\u001b[0;31m---------------------------------------------------------------------------\u001b[0m",
            "\u001b[0;31mNameError\u001b[0m                                 Traceback (most recent call last)",
            "\u001b[0;32m<ipython-input-26-ccdc523b1d30>\u001b[0m in \u001b[0;36m<module>\u001b[0;34m\u001b[0m\n\u001b[1;32m      1\u001b[0m \u001b[0mfig\u001b[0m\u001b[0;34m,\u001b[0m \u001b[0max\u001b[0m \u001b[0;34m=\u001b[0m \u001b[0mplt\u001b[0m\u001b[0;34m.\u001b[0m\u001b[0msubplots\u001b[0m\u001b[0;34m(\u001b[0m\u001b[0mfigsize\u001b[0m\u001b[0;34m=\u001b[0m\u001b[0;34m(\u001b[0m\u001b[0;36m15\u001b[0m\u001b[0;34m,\u001b[0m\u001b[0;36m15\u001b[0m\u001b[0;34m)\u001b[0m\u001b[0;34m)\u001b[0m\u001b[0;34m\u001b[0m\u001b[0;34m\u001b[0m\u001b[0m\n\u001b[0;32m----> 2\u001b[0;31m \u001b[0msns\u001b[0m\u001b[0;34m.\u001b[0m\u001b[0mheatmap\u001b[0m\u001b[0;34m(\u001b[0m\u001b[0mcorrTrain\u001b[0m\u001b[0;34m,\u001b[0m\u001b[0msquare\u001b[0m\u001b[0;34m=\u001b[0m\u001b[0;32mTrue\u001b[0m\u001b[0;34m)\u001b[0m\u001b[0;34m\u001b[0m\u001b[0;34m\u001b[0m\u001b[0m\n\u001b[0m\u001b[1;32m      3\u001b[0m \u001b[0mplt\u001b[0m\u001b[0;34m.\u001b[0m\u001b[0mshow\u001b[0m\u001b[0;34m(\u001b[0m\u001b[0;34m)\u001b[0m\u001b[0;34m\u001b[0m\u001b[0;34m\u001b[0m\u001b[0m\n",
            "\u001b[0;31mNameError\u001b[0m: name 'sns' is not defined"
          ]
        },
        {
          "output_type": "display_data",
          "data": {
            "text/plain": [
              "<Figure size 1080x1080 with 1 Axes>"
            ],
            "image/png": "[encoded data removed]"
          },
          "metadata": {
            "needs_background": "light"
          }
        }
      ]
    },
    {
      "cell_type": "markdown",
      "source": [
        "# Rellenado de columnas"
      ],
      "metadata": {
        "id": "82zd2QKErUxG"
      }
    },
    {
      "cell_type": "markdown",
      "source": [],
      "metadata": {
        "id": "7nKf5RR_rrMF"
      }
    },
    {
      "cell_type": "code",
      "source": [],
      "metadata": {
        "id": "z30UfxdorTok"
      },
      "execution_count": null,
      "outputs": []
    }
  ]
}